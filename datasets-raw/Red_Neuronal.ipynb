{
 "cells": [
  {
   "cell_type": "code",
   "execution_count": 107,
   "id": "a865a9c9-f9a0-4078-8c4f-7a231fa70fe8",
   "metadata": {},
   "outputs": [],
   "source": [
    "import matplotlib.pyplot as plot\n",
    "import seaborn as sns\n",
    "import numpy as np\n",
    "import pandas as pd\n",
    "import plotly.express as px\n",
    "import matplotlib.pyplot as plt\n",
    "import matplotlib.ticker as mtick\n",
    "import requests\n",
    "from sklearn import preprocessing\n",
    "from sklearn.model_selection import train_test_split\n",
    "from sklearn.svm import SVC\n",
    "import sklearn.metrics as metrics\n",
    "from imblearn.under_sampling import NearMiss\n",
    "from imblearn.over_sampling import RandomOverSampler\n",
    "from imblearn.combine import SMOTETomek\n",
    "from imblearn.ensemble import BalancedBaggingClassifier\n",
    "from collections import Counter\n",
    "from sklearn.feature_selection import SelectKBest\n",
    "from numpy import array\n",
    "from sklearn.metrics import confusion_matrix\n",
    "from sklearn.model_selection import GridSearchCV\n",
    "from sklearn.metrics import accuracy_score\n",
    "from sklearn.metrics import precision_score\n",
    "from sklearn.metrics import recall_score\n",
    "from sklearn.metrics import f1_score\n",
    "import keras\n",
    "from keras.models import Sequential\n",
    "from keras.layers import Dense\n",
    "from keras.layers import Dropout"
   ]
  },
  {
   "cell_type": "code",
   "execution_count": 108,
   "id": "aaa1c1fd-c4b8-48e1-b899-0f918f4d1b2f",
   "metadata": {},
   "outputs": [
    {
     "data": {
      "text/html": [
       "<div>\n",
       "<style scoped>\n",
       "    .dataframe tbody tr th:only-of-type {\n",
       "        vertical-align: middle;\n",
       "    }\n",
       "\n",
       "    .dataframe tbody tr th {\n",
       "        vertical-align: top;\n",
       "    }\n",
       "\n",
       "    .dataframe thead th {\n",
       "        text-align: right;\n",
       "    }\n",
       "</style>\n",
       "<table border=\"1\" class=\"dataframe\">\n",
       "  <thead>\n",
       "    <tr style=\"text-align: right;\">\n",
       "      <th></th>\n",
       "      <th>riesgoso</th>\n",
       "      <th>normalized-losses</th>\n",
       "      <th>wheel-base</th>\n",
       "      <th>height</th>\n",
       "      <th>bore</th>\n",
       "      <th>stroke</th>\n",
       "      <th>peak-rpm</th>\n",
       "      <th>price</th>\n",
       "      <th>brand_int</th>\n",
       "      <th>fuel_gas</th>\n",
       "      <th>aspiration_int</th>\n",
       "      <th>body-style_int</th>\n",
       "      <th>drive-wheels-int</th>\n",
       "      <th>engine-location_int</th>\n",
       "      <th>engine-type_int</th>\n",
       "      <th>num-of-cilinders-int</th>\n",
       "      <th>fuel-system_int</th>\n",
       "    </tr>\n",
       "  </thead>\n",
       "  <tbody>\n",
       "    <tr>\n",
       "      <th>0</th>\n",
       "      <td>no-riesgoso</td>\n",
       "      <td>169</td>\n",
       "      <td>88.6</td>\n",
       "      <td>48.8</td>\n",
       "      <td>3.47</td>\n",
       "      <td>2.68</td>\n",
       "      <td>5000</td>\n",
       "      <td>13495</td>\n",
       "      <td>0</td>\n",
       "      <td>1</td>\n",
       "      <td>0</td>\n",
       "      <td>0</td>\n",
       "      <td>76</td>\n",
       "      <td>0</td>\n",
       "      <td>0</td>\n",
       "      <td>4</td>\n",
       "      <td>0</td>\n",
       "    </tr>\n",
       "    <tr>\n",
       "      <th>1</th>\n",
       "      <td>no-riesgoso</td>\n",
       "      <td>169</td>\n",
       "      <td>88.6</td>\n",
       "      <td>48.8</td>\n",
       "      <td>3.47</td>\n",
       "      <td>2.68</td>\n",
       "      <td>5000</td>\n",
       "      <td>16500</td>\n",
       "      <td>0</td>\n",
       "      <td>1</td>\n",
       "      <td>0</td>\n",
       "      <td>0</td>\n",
       "      <td>76</td>\n",
       "      <td>0</td>\n",
       "      <td>0</td>\n",
       "      <td>4</td>\n",
       "      <td>0</td>\n",
       "    </tr>\n",
       "    <tr>\n",
       "      <th>2</th>\n",
       "      <td>no-riesgoso</td>\n",
       "      <td>126</td>\n",
       "      <td>94.5</td>\n",
       "      <td>52.4</td>\n",
       "      <td>2.68</td>\n",
       "      <td>3.47</td>\n",
       "      <td>5000</td>\n",
       "      <td>16500</td>\n",
       "      <td>0</td>\n",
       "      <td>1</td>\n",
       "      <td>0</td>\n",
       "      <td>1</td>\n",
       "      <td>76</td>\n",
       "      <td>0</td>\n",
       "      <td>1</td>\n",
       "      <td>6</td>\n",
       "      <td>0</td>\n",
       "    </tr>\n",
       "    <tr>\n",
       "      <th>3</th>\n",
       "      <td>no-riesgoso</td>\n",
       "      <td>164</td>\n",
       "      <td>99.8</td>\n",
       "      <td>54.3</td>\n",
       "      <td>3.19</td>\n",
       "      <td>3.40</td>\n",
       "      <td>5500</td>\n",
       "      <td>13950</td>\n",
       "      <td>1</td>\n",
       "      <td>1</td>\n",
       "      <td>0</td>\n",
       "      <td>2</td>\n",
       "      <td>120</td>\n",
       "      <td>0</td>\n",
       "      <td>2</td>\n",
       "      <td>4</td>\n",
       "      <td>0</td>\n",
       "    </tr>\n",
       "    <tr>\n",
       "      <th>4</th>\n",
       "      <td>no-riesgoso</td>\n",
       "      <td>164</td>\n",
       "      <td>99.4</td>\n",
       "      <td>54.3</td>\n",
       "      <td>3.19</td>\n",
       "      <td>3.40</td>\n",
       "      <td>5500</td>\n",
       "      <td>17450</td>\n",
       "      <td>1</td>\n",
       "      <td>1</td>\n",
       "      <td>0</td>\n",
       "      <td>2</td>\n",
       "      <td>9</td>\n",
       "      <td>0</td>\n",
       "      <td>2</td>\n",
       "      <td>5</td>\n",
       "      <td>0</td>\n",
       "    </tr>\n",
       "  </tbody>\n",
       "</table>\n",
       "</div>"
      ],
      "text/plain": [
       "      riesgoso  normalized-losses  wheel-base  height  bore  stroke  peak-rpm  \\\n",
       "0  no-riesgoso                169        88.6    48.8  3.47    2.68      5000   \n",
       "1  no-riesgoso                169        88.6    48.8  3.47    2.68      5000   \n",
       "2  no-riesgoso                126        94.5    52.4  2.68    3.47      5000   \n",
       "3  no-riesgoso                164        99.8    54.3  3.19    3.40      5500   \n",
       "4  no-riesgoso                164        99.4    54.3  3.19    3.40      5500   \n",
       "\n",
       "   price  brand_int  fuel_gas  aspiration_int  body-style_int  \\\n",
       "0  13495          0         1               0               0   \n",
       "1  16500          0         1               0               0   \n",
       "2  16500          0         1               0               1   \n",
       "3  13950          1         1               0               2   \n",
       "4  17450          1         1               0               2   \n",
       "\n",
       "   drive-wheels-int  engine-location_int  engine-type_int  \\\n",
       "0                76                    0                0   \n",
       "1                76                    0                0   \n",
       "2                76                    0                1   \n",
       "3               120                    0                2   \n",
       "4                 9                    0                2   \n",
       "\n",
       "   num-of-cilinders-int  fuel-system_int  \n",
       "0                     4                0  \n",
       "1                     4                0  \n",
       "2                     6                0  \n",
       "3                     4                0  \n",
       "4                     5                0  "
      ]
     },
     "execution_count": 108,
     "metadata": {},
     "output_type": "execute_result"
    }
   ],
   "source": [
    "df = pd.read_csv('./limpio.csv')\n",
    "df.head()"
   ]
  },
  {
   "cell_type": "code",
   "execution_count": 109,
   "id": "116a5684-63d6-4db2-8173-08f5b0f6a2e9",
   "metadata": {},
   "outputs": [
    {
     "data": {
      "text/html": [
       "<div>\n",
       "<style scoped>\n",
       "    .dataframe tbody tr th:only-of-type {\n",
       "        vertical-align: middle;\n",
       "    }\n",
       "\n",
       "    .dataframe tbody tr th {\n",
       "        vertical-align: top;\n",
       "    }\n",
       "\n",
       "    .dataframe thead th {\n",
       "        text-align: right;\n",
       "    }\n",
       "</style>\n",
       "<table border=\"1\" class=\"dataframe\">\n",
       "  <thead>\n",
       "    <tr style=\"text-align: right;\">\n",
       "      <th></th>\n",
       "      <th>riesgoso</th>\n",
       "      <th>normalized-losses</th>\n",
       "      <th>wheel-base</th>\n",
       "      <th>height</th>\n",
       "      <th>bore</th>\n",
       "      <th>stroke</th>\n",
       "      <th>peak-rpm</th>\n",
       "      <th>price</th>\n",
       "      <th>brand_int</th>\n",
       "      <th>fuel_gas</th>\n",
       "      <th>aspiration_int</th>\n",
       "      <th>body-style_int</th>\n",
       "      <th>drive-wheels-int</th>\n",
       "      <th>engine-location_int</th>\n",
       "      <th>engine-type_int</th>\n",
       "      <th>num-of-cilinders-int</th>\n",
       "      <th>fuel-system_int</th>\n",
       "    </tr>\n",
       "  </thead>\n",
       "  <tbody>\n",
       "    <tr>\n",
       "      <th>0</th>\n",
       "      <td>0</td>\n",
       "      <td>169</td>\n",
       "      <td>88.6</td>\n",
       "      <td>48.8</td>\n",
       "      <td>3.47</td>\n",
       "      <td>2.68</td>\n",
       "      <td>5000</td>\n",
       "      <td>13495</td>\n",
       "      <td>0</td>\n",
       "      <td>1</td>\n",
       "      <td>0</td>\n",
       "      <td>0</td>\n",
       "      <td>76</td>\n",
       "      <td>0</td>\n",
       "      <td>0</td>\n",
       "      <td>4</td>\n",
       "      <td>0</td>\n",
       "    </tr>\n",
       "    <tr>\n",
       "      <th>1</th>\n",
       "      <td>0</td>\n",
       "      <td>169</td>\n",
       "      <td>88.6</td>\n",
       "      <td>48.8</td>\n",
       "      <td>3.47</td>\n",
       "      <td>2.68</td>\n",
       "      <td>5000</td>\n",
       "      <td>16500</td>\n",
       "      <td>0</td>\n",
       "      <td>1</td>\n",
       "      <td>0</td>\n",
       "      <td>0</td>\n",
       "      <td>76</td>\n",
       "      <td>0</td>\n",
       "      <td>0</td>\n",
       "      <td>4</td>\n",
       "      <td>0</td>\n",
       "    </tr>\n",
       "    <tr>\n",
       "      <th>2</th>\n",
       "      <td>0</td>\n",
       "      <td>126</td>\n",
       "      <td>94.5</td>\n",
       "      <td>52.4</td>\n",
       "      <td>2.68</td>\n",
       "      <td>3.47</td>\n",
       "      <td>5000</td>\n",
       "      <td>16500</td>\n",
       "      <td>0</td>\n",
       "      <td>1</td>\n",
       "      <td>0</td>\n",
       "      <td>1</td>\n",
       "      <td>76</td>\n",
       "      <td>0</td>\n",
       "      <td>1</td>\n",
       "      <td>6</td>\n",
       "      <td>0</td>\n",
       "    </tr>\n",
       "    <tr>\n",
       "      <th>3</th>\n",
       "      <td>0</td>\n",
       "      <td>164</td>\n",
       "      <td>99.8</td>\n",
       "      <td>54.3</td>\n",
       "      <td>3.19</td>\n",
       "      <td>3.40</td>\n",
       "      <td>5500</td>\n",
       "      <td>13950</td>\n",
       "      <td>1</td>\n",
       "      <td>1</td>\n",
       "      <td>0</td>\n",
       "      <td>2</td>\n",
       "      <td>120</td>\n",
       "      <td>0</td>\n",
       "      <td>2</td>\n",
       "      <td>4</td>\n",
       "      <td>0</td>\n",
       "    </tr>\n",
       "    <tr>\n",
       "      <th>4</th>\n",
       "      <td>0</td>\n",
       "      <td>164</td>\n",
       "      <td>99.4</td>\n",
       "      <td>54.3</td>\n",
       "      <td>3.19</td>\n",
       "      <td>3.40</td>\n",
       "      <td>5500</td>\n",
       "      <td>17450</td>\n",
       "      <td>1</td>\n",
       "      <td>1</td>\n",
       "      <td>0</td>\n",
       "      <td>2</td>\n",
       "      <td>9</td>\n",
       "      <td>0</td>\n",
       "      <td>2</td>\n",
       "      <td>5</td>\n",
       "      <td>0</td>\n",
       "    </tr>\n",
       "  </tbody>\n",
       "</table>\n",
       "</div>"
      ],
      "text/plain": [
       "   riesgoso  normalized-losses  wheel-base  height  bore  stroke  peak-rpm  \\\n",
       "0         0                169        88.6    48.8  3.47    2.68      5000   \n",
       "1         0                169        88.6    48.8  3.47    2.68      5000   \n",
       "2         0                126        94.5    52.4  2.68    3.47      5000   \n",
       "3         0                164        99.8    54.3  3.19    3.40      5500   \n",
       "4         0                164        99.4    54.3  3.19    3.40      5500   \n",
       "\n",
       "   price  brand_int  fuel_gas  aspiration_int  body-style_int  \\\n",
       "0  13495          0         1               0               0   \n",
       "1  16500          0         1               0               0   \n",
       "2  16500          0         1               0               1   \n",
       "3  13950          1         1               0               2   \n",
       "4  17450          1         1               0               2   \n",
       "\n",
       "   drive-wheels-int  engine-location_int  engine-type_int  \\\n",
       "0                76                    0                0   \n",
       "1                76                    0                0   \n",
       "2                76                    0                1   \n",
       "3               120                    0                2   \n",
       "4                 9                    0                2   \n",
       "\n",
       "   num-of-cilinders-int  fuel-system_int  \n",
       "0                     4                0  \n",
       "1                     4                0  \n",
       "2                     6                0  \n",
       "3                     4                0  \n",
       "4                     5                0  "
      ]
     },
     "execution_count": 109,
     "metadata": {},
     "output_type": "execute_result"
    }
   ],
   "source": [
    "#mapeo de valores\n",
    "# Suponiendo que tienes un DataFrame llamado 'df' y una columna llamada 'columna_a_mapear'\n",
    "mapeo = {'riesgoso': 1, 'no-riesgoso': 0}\n",
    "df['riesgoso'] = df['riesgoso'].map(mapeo)\n",
    "df.head()"
   ]
  },
  {
   "cell_type": "code",
   "execution_count": 111,
   "id": "8e335714-402b-4bb7-ae06-49a06bed7cb2",
   "metadata": {},
   "outputs": [],
   "source": [
    "df.to_csv('./limpio2.csv')"
   ]
  },
  {
   "cell_type": "code",
   "execution_count": 73,
   "id": "8ecbffd7-af45-4a1f-941e-a103ab411f3c",
   "metadata": {},
   "outputs": [
    {
     "data": {
      "text/plain": [
       "riesgoso\n",
       "0    113\n",
       "1     92\n",
       "Name: count, dtype: int64"
      ]
     },
     "execution_count": 73,
     "metadata": {},
     "output_type": "execute_result"
    }
   ],
   "source": [
    "df['riesgoso'].value_counts()"
   ]
  },
  {
   "cell_type": "code",
   "execution_count": 74,
   "id": "b2011cad-4b5e-499c-a527-6e30f403e448",
   "metadata": {},
   "outputs": [],
   "source": [
    "#particionado del dataset\n",
    "X = df.drop('riesgoso', axis=1)\n",
    "# se selecciona la columna de la clase\n",
    "y = df['riesgoso']"
   ]
  },
  {
   "cell_type": "code",
   "execution_count": 75,
   "id": "748ea902-f0ed-47ff-86a7-c04ce785495a",
   "metadata": {},
   "outputs": [],
   "source": [
    "X_train, X_test, y_train, y_test = train_test_split(X, y, test_size=0.3, random_state=1) # 70% training and 30% test"
   ]
  },
  {
   "cell_type": "code",
   "execution_count": 76,
   "id": "9cf26b7c-5377-4d52-9ed9-82dc122adff8",
   "metadata": {},
   "outputs": [
    {
     "name": "stderr",
     "output_type": "stream",
     "text": [
      "C:\\Users\\andres\\AppData\\Local\\Temp\\ipykernel_22288\\2920958560.py:2: FutureWarning: pandas.value_counts is deprecated and will be removed in a future version. Use pd.Series(obj).value_counts() instead.\n",
      "  count_classes = pd.value_counts(y, sort = True)\n"
     ]
    },
    {
     "data": {
      "image/png": "[encoded data removed]",
      "text/plain": [
       "<Figure size 640x480 with 1 Axes>"
      ]
     },
     "metadata": {},
     "output_type": "display_data"
    }
   ],
   "source": [
    "def crearBarras (etiquetas, y):\n",
    "  count_classes = pd.value_counts(y, sort = True)\n",
    "  count_classes.plot(kind = 'bar', rot=0)\n",
    "  plt.xticks(range(2), etiquetas)\n",
    "  plt.title(\"Frecuencia de acuerdo al número de observaciones\")\n",
    "  plt.xlabel(\"Riesgoso\")\n",
    "  plt.ylabel(\"cantidad de observaciones\");\n",
    "\n",
    "etiquetas= ['0','1']\n",
    "crearBarras ( etiquetas, df['riesgoso'])"
   ]
  },
  {
   "cell_type": "code",
   "execution_count": 77,
   "id": "48d6a9df-b25a-4030-9e83-c7b49e12d977",
   "metadata": {},
   "outputs": [
    {
     "name": "stderr",
     "output_type": "stream",
     "text": [
      "C:\\Users\\andres\\AppData\\Local\\Temp\\ipykernel_22288\\2920958560.py:2: FutureWarning: pandas.value_counts is deprecated and will be removed in a future version. Use pd.Series(obj).value_counts() instead.\n",
      "  count_classes = pd.value_counts(y, sort = True)\n"
     ]
    },
    {
     "name": "stdout",
     "output_type": "stream",
     "text": [
      "Antes de  resampling Counter({0: 77, 1: 66})\n",
      "Despues del  resampling Counter({0: 77, 1: 77})\n"
     ]
    },
    {
     "data": {
      "image/png": "[encoded data removed]",
      "text/plain": [
       "<Figure size 640x480 with 1 Axes>"
      ]
     },
     "metadata": {},
     "output_type": "display_data"
    }
   ],
   "source": [
    "#Subsampling\n",
    "os =  RandomOverSampler()\n",
    "X_train_res, y_train_res = os.fit_resample(X_train, y_train)\n",
    "\n",
    "print (\"Antes de  resampling {}\".format(Counter(y_train)))\n",
    "print (\"Despues del  resampling {}\".format(Counter(y_train_res)))\n",
    "crearBarras (etiquetas, y_train_res)"
   ]
  },
  {
   "cell_type": "code",
   "execution_count": 78,
   "id": "dedf0e8f-35c8-43db-a2cc-5c61142fbbfa",
   "metadata": {},
   "outputs": [],
   "source": [
    "def svm_fn(x_train, y_train, max_depth=None, max_features=None):\n",
    "    model = SVC(kernel='linear')\n",
    "    model.fit(x_train, y_train)\n",
    "    return model"
   ]
  },
  {
   "cell_type": "code",
   "execution_count": 79,
   "id": "c85c376b-9582-49de-86bf-1189f8a4b7bf",
   "metadata": {},
   "outputs": [],
   "source": [
    "def generar_modelo(X_train, y_train, X_test, y_test, opcion):\n",
    "  if (opcion == 1):\n",
    "    print(\"\\n================== \")\n",
    "    print(\"\\nGenerando modelo con todos los parametros\\n\")\n",
    "    print(\"================== \\n\")\n",
    "  else:\n",
    "    print(\"\\n ==================\")\n",
    "    print(\"\\n Generando modelo con los 7 mejores parámetros\\n\")\n",
    "    print(\"================== \\n\")\n",
    "  svm = svm_fn(X_train, y_train)\n",
    "  y_pred = svm.predict(X_test)\n",
    "  print(\"Accuracy: \\n\", metrics.accuracy_score(y_test, y_pred))\n",
    "  print(\"\\n================== \\n\")\n",
    "  print(\"\\nMatriz de confusión: \\n\",confusion_matrix(y_test, y_pred))"
   ]
  },
  {
   "cell_type": "code",
   "execution_count": 80,
   "id": "180b5f43-f44b-447f-ae96-4c869d9af352",
   "metadata": {},
   "outputs": [
    {
     "name": "stdout",
     "output_type": "stream",
     "text": [
      "\n",
      "================== \n",
      "\n",
      "Generando modelo con todos los parametros\n",
      "\n",
      "================== \n",
      "\n",
      "Accuracy: \n",
      " 0.8709677419354839\n",
      "\n",
      "================== \n",
      "\n",
      "\n",
      "Matriz de confusión: \n",
      " [[31  5]\n",
      " [ 3 23]]\n"
     ]
    }
   ],
   "source": [
    "generar_modelo(X_train_res, y_train_res, X_test, y_test, 1)"
   ]
  },
  {
   "cell_type": "code",
   "execution_count": 81,
   "id": "acb22846-2287-4a8e-b1a6-4673e22f006d",
   "metadata": {},
   "outputs": [],
   "source": [
    "# prepare input data\n",
    "def prepare_inputs(X_train, X_test):\n",
    "\toe = OrdinalEncoder()\n",
    "\toe.fit(X_train)\n",
    "\tX_train_enc = oe.transform(X_train)\n",
    "\tX_test_enc = oe.transform(X_test)\n",
    "\treturn X_train_enc, X_test_enc\n",
    "# prepare target\n",
    "def prepare_targets(y_train, y_test):\n",
    "\tle = LabelEncoder()\n",
    "\tle.fit(y_train)\n",
    "\ty_train_enc = le.transform(y_train)\n",
    "\ty_test_enc = le.transform(y_test)\n",
    "\treturn y_train_enc, y_test_enc"
   ]
  },
  {
   "cell_type": "code",
   "execution_count": 82,
   "id": "4f1cb773-f27d-404b-bbb4-7d4365c652ef",
   "metadata": {},
   "outputs": [],
   "source": [
    "from sklearn.preprocessing import OrdinalEncoder\n",
    "from sklearn.preprocessing import LabelEncoder\n",
    "\n",
    "# prepare input data\n",
    "#X_train_enc, X_test_enc = prepare_inputs(X_train, X_test)\n",
    "X_train_enc =(X_train)\n",
    "X_test_enc = (X_test)\n",
    "# prepare output data\n",
    "y_train_enc, y_test_enc = prepare_targets(y_train, y_test)"
   ]
  },
  {
   "cell_type": "code",
   "execution_count": 83,
   "id": "99f79c32-e5e6-438e-84ce-3183981dbd1c",
   "metadata": {},
   "outputs": [
    {
     "name": "stdout",
     "output_type": "stream",
     "text": [
      "Accuracy: 61.29\n",
      "2/2 [==============================] - 0s 0s/step\n"
     ]
    }
   ],
   "source": [
    "\n",
    "# define the  model\n",
    "model = Sequential()\n",
    "# input_dim es el número de características (cantidad de columnas, variables)\n",
    "# It means 140 input parameters, with 10 neurons in the FIRST hidden layer.\n",
    "model.add(Dense(10, input_dim=X_train_enc.shape[1], activation='relu', kernel_initializer='he_normal'))\n",
    "model.add(Dropout(0.1))\n",
    "model.add(Dense(1, activation='sigmoid'))\n",
    "# compile the keras model\n",
    "#binary_crossentropy para clase binaria, tambien hay 'categorical_crossentropy'\n",
    "model.compile(loss='binary_crossentropy', optimizer='adam', metrics=['accuracy'])\n",
    "# fit the keras model on the dataset\n",
    "model.fit(X_train_enc, y_train_enc, epochs=100, batch_size=16, verbose=False)\n",
    "# evaluate the keras model\n",
    "_, accuracy = model.evaluate(X_test_enc, y_test_enc, verbose=0)\n",
    "print('Accuracy: %.2f' % (accuracy*100))\n",
    "y_pred2 = model.predict(X_test_enc)\n",
    "\n",
    "# Después de entrenar el modelo\n",
    "model.save('modelo.h5')"
   ]
  },
  {
   "cell_type": "code",
   "execution_count": 84,
   "id": "13d2c9b8-bc4f-48a3-8d4b-b7178fa76bb9",
   "metadata": {},
   "outputs": [
    {
     "data": {
      "text/plain": [
       "array([[False],\n",
       "       [False],\n",
       "       [False],\n",
       "       [False],\n",
       "       [False],\n",
       "       [False],\n",
       "       [False],\n",
       "       [False],\n",
       "       [False],\n",
       "       [False],\n",
       "       [False],\n",
       "       [False],\n",
       "       [ True],\n",
       "       [False],\n",
       "       [False],\n",
       "       [False],\n",
       "       [False],\n",
       "       [False],\n",
       "       [False],\n",
       "       [ True],\n",
       "       [False],\n",
       "       [False],\n",
       "       [False],\n",
       "       [False],\n",
       "       [False],\n",
       "       [False],\n",
       "       [False],\n",
       "       [False],\n",
       "       [False],\n",
       "       [False],\n",
       "       [False],\n",
       "       [False],\n",
       "       [False],\n",
       "       [False],\n",
       "       [False],\n",
       "       [False],\n",
       "       [False],\n",
       "       [False],\n",
       "       [False],\n",
       "       [False],\n",
       "       [False],\n",
       "       [False],\n",
       "       [False],\n",
       "       [False],\n",
       "       [False],\n",
       "       [False],\n",
       "       [False],\n",
       "       [False],\n",
       "       [False],\n",
       "       [False],\n",
       "       [False],\n",
       "       [False],\n",
       "       [False],\n",
       "       [False],\n",
       "       [False],\n",
       "       [False],\n",
       "       [False],\n",
       "       [False],\n",
       "       [False],\n",
       "       [False],\n",
       "       [False],\n",
       "       [False]])"
      ]
     },
     "execution_count": 84,
     "metadata": {},
     "output_type": "execute_result"
    }
   ],
   "source": [
    "y_pred2>0.5"
   ]
  },
  {
   "cell_type": "code",
   "execution_count": 85,
   "id": "893aee1c-da5a-4683-9eb1-82e17cb58b24",
   "metadata": {},
   "outputs": [
    {
     "data": {
      "text/plain": [
       "array([False, False, False, False,  True,  True, False, False, False,\n",
       "        True, False, False,  True,  True, False, False, False, False,\n",
       "       False,  True,  True, False,  True, False, False, False, False,\n",
       "       False, False,  True, False,  True,  True,  True,  True, False,\n",
       "       False,  True, False,  True, False, False, False,  True, False,\n",
       "       False,  True, False,  True,  True,  True,  True, False,  True,\n",
       "       False, False,  True,  True,  True, False, False,  True])"
      ]
     },
     "execution_count": 85,
     "metadata": {},
     "output_type": "execute_result"
    }
   ],
   "source": [
    "y_test_enc>0.5"
   ]
  },
  {
   "cell_type": "code",
   "execution_count": 86,
   "id": "56fd4043-62d1-4db0-b743-0b31f2ed31ce",
   "metadata": {},
   "outputs": [
    {
     "name": "stdout",
     "output_type": "stream",
     "text": [
      "[[36 24]\n",
      " [ 0  2]]\n"
     ]
    }
   ],
   "source": [
    "# Elaborar una matriz de confusión\n",
    "from sklearn.metrics import confusion_matrix\n",
    "cm = confusion_matrix(y_pred2>0.5, y_test_enc>0.5)\n",
    "print (cm)"
   ]
  },
  {
   "cell_type": "code",
   "execution_count": 87,
   "id": "bdeaaa11-f620-4edc-bba5-868c846fdb92",
   "metadata": {},
   "outputs": [
    {
     "name": "stdout",
     "output_type": "stream",
     "text": [
      "0.6129032258064516\n"
     ]
    }
   ],
   "source": [
    "print((cm[0][0]+cm[1][1])/cm.sum())"
   ]
  },
  {
   "cell_type": "code",
   "execution_count": 100,
   "id": "c02c4311-f89c-4ac9-aa92-d253b9c269a4",
   "metadata": {},
   "outputs": [],
   "source": [
    "#construimos nuestra red neuronal\n",
    "import keras\n",
    "from keras.models import Sequential\n",
    "from keras.layers import Dense\n",
    "from keras.layers import Dropout\n",
    "from tensorflow.keras import layers, models\n",
    "\"\"\"\n",
    "def construir_red_neuronal():\n",
    "  clf = models.Sequential()\n",
    "\n",
    "  #primera capa\n",
    "  clf.add(layers.Dense(units = 6, activation = \"relu\", input_dim=X_train_enc.shape[1]))\n",
    "  clf.add(layers.Dropout(0.1))\n",
    "\n",
    "  #segunda capa\n",
    "  clf.add(layers.Dense(units = 6, activation = \"relu\"))\n",
    "  clf.add(layers.Dropout(0.1))\n",
    "\n",
    "  #segunda capa\n",
    "  clf.add(layers.Dense(units = 1,kernel_initializer = \"uniform\", activation = \"sigmoid\"))\n",
    "\n",
    "  #compilador de la RNA\n",
    "  clf.compile(optimizer = \"adam\", loss = \"binary_crossentropy\", metrics = [\"accuracy\"])\n",
    "\n",
    "  #clf.fit(y_train_enc, y_train_enc, batch_size = 10, epochs = 100)\n",
    "  clf.fit(X_train_enc, y_train_enc, epochs=100, batch_size=16, verbose=0)\n",
    "  return clf\"\"\"\n",
    "\n",
    "def construir_red_neuronal():\n",
    "    clf = Sequential()\n",
    "\n",
    "    # Primera capa\n",
    "    clf.add(Dense(units=6, activation=\"relu\", input_dim=X_train_enc.shape[1], kernel_initializer=\"he_uniform\"))\n",
    "    clf.add(Dropout(0.2))\n",
    "\n",
    "    # Segunda capa\n",
    "    clf.add(Dense(units=6, activation=\"relu\", kernel_initializer=\"he_uniform\"))\n",
    "    clf.add(Dropout(0.2))\n",
    "\n",
    "    # Capa de salida\n",
    "    clf.add(Dense(units=1, kernel_initializer=\"he_uniform\", activation=\"sigmoid\"))\n",
    "\n",
    "    # Compilador de la RNA\n",
    "    clf.compile(optimizer=\"adam\", loss=\"binary_crossentropy\", metrics=[\"accuracy\"])\n",
    "\n",
    "    return clf"
   ]
  },
  {
   "cell_type": "code",
   "execution_count": 89,
   "id": "37aab4ec-f78a-46a6-b292-9507fbaa63a4",
   "metadata": {},
   "outputs": [],
   "source": [
    "%matplotlib inline\n",
    "import itertools\n",
    "import matplotlib.pyplot as plt\n",
    "\n",
    "def plot_confusion_matrix(cm, classes,\n",
    "                          normalize=False,\n",
    "                          title='Confusion matrix',\n",
    "                          cmap=plt.cm.Blues):\n",
    "    \"\"\"\n",
    "    This function prints and plots the confusion matrix.\n",
    "    Normalization can be applied by setting `normalize=True`.\n",
    "    \"\"\"\n",
    "    plt.imshow(cm, interpolation='nearest', cmap=cmap)\n",
    "    plt.title(title)\n",
    "    plt.colorbar()\n",
    "    tick_marks = np.arange(len(classes))\n",
    "    plt.xticks(tick_marks, classes, rotation=45)\n",
    "    plt.yticks(tick_marks, classes)\n",
    "\n",
    "    if normalize:\n",
    "        cm = cm.astype('float') / cm.sum(axis=1)[:, np.newaxis]\n",
    "        print(\"Normalized confusion matrix\")\n",
    "    else:\n",
    "        print('Confusion matrix, without normalization')\n",
    "\n",
    "    print(cm)\n",
    "\n",
    "    thresh = cm.max() / 2.\n",
    "    for i, j in itertools.product(range(cm.shape[0]), range(cm.shape[1])):\n",
    "        plt.text(j, i, cm[i, j],\n",
    "                 horizontalalignment=\"center\",\n",
    "                 color=\"white\" if cm[i, j] > thresh else \"black\")\n",
    "\n",
    "    plt.tight_layout()\n",
    "    plt.ylabel('True label')\n",
    "    plt.xlabel('Predicted label')"
   ]
  },
  {
   "cell_type": "code",
   "execution_count": 102,
   "id": "5b6a43f4-879c-464e-95f6-ac8c56bf1605",
   "metadata": {},
   "outputs": [
    {
     "name": "stdout",
     "output_type": "stream",
     "text": [
      "2/2 [==============================] - 0s 0s/step\n",
      "0.7096774193548387\n",
      "Confusion matrix, without normalization\n",
      "[[27  9]\n",
      " [ 9 17]]\n"
     ]
    },
    {
     "data": {
      "image/png": "[encoded data removed]",
      "text/plain": [
       "<Figure size 640x480 with 2 Axes>"
      ]
     },
     "metadata": {},
     "output_type": "display_data"
    }
   ],
   "source": [
    "pres = 0\n",
    "while pres < 0.70:\n",
    "    clf = construir_red_neuronal()\n",
    "    #predecir\n",
    "    y_pred = clf.predict(X_test_enc)\n",
    "    #y_pred\n",
    "    y_pred = (y_pred>0.5)\n",
    "    #y_pred\n",
    "    y_test_enc2 =  (y_test_enc>0.5)\n",
    "    # Elaborar una matriz de confusión\n",
    "    \n",
    "    cm = confusion_matrix(y_test_enc2, y_pred)\n",
    "    pres = (cm[0][0]+cm[1][1])/cm.sum()\n",
    "    print(pres)\n",
    "from sklearn.metrics import confusion_matrix\n",
    "plot_confusion_matrix(cm, ['1', '0'],title='Matriz de confusión')"
   ]
  },
  {
   "cell_type": "code",
   "execution_count": 103,
   "id": "4130dc3e-139f-4011-a91c-ca3c26e690dd",
   "metadata": {},
   "outputs": [],
   "source": [
    "def entrenar_modelo():\n",
    "    print(\"Comenzando entrenamiento...\")\n",
    "    # Compilar el modelo\n",
    "    # Entrenar el modelo y obtener el historial\n",
    "    historial = clf.fit(X_train_enc, y_train_enc, epochs=1000, verbose=False)  # Devuelve el objeto 'History'\n",
    "    print(\"Modelo entrenado!\")\n",
    "    return historial  # Devuelve el objeto 'History'"
   ]
  },
  {
   "cell_type": "code",
   "execution_count": 104,
   "id": "c1a4d410-4e4f-4524-9ac6-b4f2a7888c5e",
   "metadata": {},
   "outputs": [
    {
     "name": "stdout",
     "output_type": "stream",
     "text": [
      "Comenzando entrenamiento...\n",
      "Modelo entrenado!\n"
     ]
    }
   ],
   "source": [
    "historial = entrenar_modelo()"
   ]
  },
  {
   "cell_type": "code",
   "execution_count": 105,
   "id": "aa3dd302-7089-4314-a479-bf029e0d31cc",
   "metadata": {},
   "outputs": [
    {
     "data": {
      "image/png": "[encoded data removed]",
      "text/plain": [
       "<Figure size 640x480 with 1 Axes>"
      ]
     },
     "metadata": {},
     "output_type": "display_data"
    }
   ],
   "source": [
    "\n",
    "# Crea el gráfico de pérdida vs. épocas\n",
    "plt.plot(historial.history['loss'], label='Pérdida de entrenamiento')\n",
    "# Si tienes validación, también puedes graficar la pérdida de validación\n",
    "if 'val_loss' in historial.history:\n",
    "    plt.plot(historial.history['val_loss'], label='Pérdida de validación')\n",
    "\n",
    "plt.xlabel('Épocas')\n",
    "plt.ylabel('Pérdida')\n",
    "plt.title('Pérdida vs. Épocas')\n",
    "plt.legend()\n",
    "plt.show()  # Muestra el gráfico"
   ]
  },
  {
   "cell_type": "code",
   "execution_count": 106,
   "id": "abab49ce-9fff-4a48-869a-294c813e84cf",
   "metadata": {},
   "outputs": [
    {
     "data": {
      "image/png": "[encoded data removed]",
      "text/plain": [
       "<Figure size 640x480 with 1 Axes>"
      ]
     },
     "metadata": {},
     "output_type": "display_data"
    }
   ],
   "source": [
    "# Crea el gráfico de precisión vs. épocas\n",
    "plt.plot(historial.history['accuracy'], label='Precisión de entrenamiento')\n",
    "# Si tienes validación, también puedes graficar la precisión de validación\n",
    "if 'val_accuracy' in historial.history:\n",
    "    plt.plot(historial.history['val_accuracy'], label='Precisión de validación')\n",
    "\n",
    "plt.xlabel('Épocas')\n",
    "plt.ylabel('Precisión')\n",
    "plt.title('Precisión vs. Épocas')\n",
    "plt.legend()\n",
    "plt.show()  # Muestra el gráfico"
   ]
  }
 ],
 "metadata": {
  "kernelspec": {
   "display_name": "Python 3 (ipykernel)",
   "language": "python",
   "name": "python3"
  },
  "language_info": {
   "codemirror_mode": {
    "name": "ipython",
    "version": 3
   },
   "file_extension": ".py",
   "mimetype": "text/x-python",
   "name": "python",
   "nbconvert_exporter": "python",
   "pygments_lexer": "ipython3",
   "version": "3.9.15"
  }
 },
 "nbformat": 4,
 "nbformat_minor": 5
}
