{
 "cells": [
  {
   "cell_type": "code",
   "execution_count": 1,
   "id": "aca3081d-43bb-4b7b-82ec-16658fe26c0f",
   "metadata": {},
   "outputs": [],
   "source": [
    "from PIL import Image\n",
    "import numpy as np\n",
    "\n",
    "# Cargar la imagen\n",
    "imagen = Image.open(\"a.png\")\n",
    "imagen = imagen.convert(\"RGB\")  # Convierte a RGB para eliminar canal alfa\n",
    "# Redimensionar para que coincida con el tamaño esperado por el modelo\n",
    "# Por ejemplo, si tu modelo espera 32x32, ajusta la imagen\n",
    "#imagen = imagen.resize((400, 400))  # Redimensionar a 32x32\n",
    "\n",
    "# Convertir a array numpy y escalar valores a [0, 1] si es necesario\n",
    "imagen_array = np.array(imagen) / 255.0  # Normalizar valores entre 0 y 1\n",
    "\n",
    "# Asegúrate de que tenga el número correcto de dimensiones (batch, height, width, channels)\n",
    "imagen_array = np.expand_dims(imagen_array, axis=0)  # Agregar dimensión de lote"
   ]
  },
  {
   "cell_type": "code",
   "execution_count": 16,
   "id": "038bd1e5-35d6-46a8-8092-daf3b27aaacc",
   "metadata": {},
   "outputs": [
    {
     "name": "stdout",
     "output_type": "stream",
     "text": [
      "<PIL.Image.Image image mode=RGB size=1920x1080 at 0x1B0F459AE20>\n"
     ]
    }
   ],
   "source": [
    "print(imagen)"
   ]
  },
  {
   "cell_type": "code",
   "execution_count": 17,
   "id": "978dec8b-fa5f-4db8-affd-0e1130851aeb",
   "metadata": {},
   "outputs": [],
   "source": [
    "import tensorflow as tf\n",
    "from tensorflow import keras\n",
    "from tensorflow.keras import layers\n",
    "# Crear un modelo convolucional con cinco filtros y diferentes tamaños de kernel\n",
    "model = keras.Sequential([\n",
    "    # Primera capa de convolución con 5 filtros y kernel 3x3\n",
    "    layers.Conv2D(1, (3, 3), activation='relu', input_shape=(1080, 1920, 3)),  # 5 filtros de tamaño 3x3\n",
    "    layers.MaxPooling2D((2, 2)),  # Pooling para reducir tamaño\n",
    "\n",
    "    # Segunda capa de convolución con 5 filtros y kernel 5x5\n",
    "    layers.Conv2D(1, (5, 5), activation='relu'),  # 5 filtros de tamaño 5x5\n",
    "    layers.MaxPooling2D((2, 2)),  # Pooling para reducir tamaño\n",
    "\n",
    "    # Aquí terminamos con las capas convolucionales para evitar reducción excesiva\n",
    "\n",
    "    # Aplanar y capas densas\n",
    "    layers.Flatten(),  # Aplana para pasar a capas densas\n",
    "    layers.Dense(64, activation='relu'),  # Capa completamente conectada\n",
    "    layers.Dropout(0.5),  # Dropout para regularización\n",
    "\n",
    "    # Capa de salida para clasificación binaria\n",
    "    layers.Dense(1, activation='sigmoid')  # Para clasificación binaria\n",
    "])"
   ]
  },
  {
   "cell_type": "code",
   "execution_count": 18,
   "id": "99e167b1-bdf8-40d7-8c2b-a29649a215ed",
   "metadata": {},
   "outputs": [],
   "source": [
    "sgd = keras.optimizers.SGD(learning_rate=0.01, momentum=0.9)\n",
    "# Compilar el modelo con el optimizador Adam y la función de pérdida adecuada\n",
    "#model.compile(optimizer='adam',\n",
    "#              loss='binary_crossentropy',  # Para clasificación binaria\n",
    "#              metrics=['accuracy'])  # Métrica de precisión\n",
    "# Compilar el modelo con el optimizador SGD\n",
    "model.compile(optimizer=sgd,\n",
    "              loss='binary_crossentropy',  # Para clasificación binaria\n",
    "              metrics=['accuracy'])  # Métrica de precisión"
   ]
  },
  {
   "cell_type": "code",
   "execution_count": 19,
   "id": "cb99ad75-90cc-4267-a991-2b76c724f71c",
   "metadata": {},
   "outputs": [
    {
     "name": "stdout",
     "output_type": "stream",
     "text": [
      "1/1 [==============================] - 0s 121ms/step\n",
      "Predicción: [0.49930352]\n"
     ]
    }
   ],
   "source": [
    "# Obtener la salida del modelo para la imagen\n",
    "resultados = model.predict(imagen_array)\n",
    "\n",
    "# Si es una salida de predicción binaria, puedes interpretar el resultado\n",
    "print(\"Predicción:\", resultados[0])  # Muestra la salida de la predicción"
   ]
  },
  {
   "cell_type": "code",
   "execution_count": null,
   "id": "172576c5-1dca-40be-a969-6003fac5bd45",
   "metadata": {},
   "outputs": [
    {
     "name": "stdout",
     "output_type": "stream",
     "text": [
      "El array 'resultados' no tiene 4 dimensiones como se esperaba. Forma: (1, 1)\n"
     ]
    }
   ],
   "source": [
    "import matplotlib.pyplot as plt\n",
    "import os  # Para manipulación de directorios y archivos\n",
    "\n",
    "# Asegúrate de que el directorio donde guardarás las imágenes exista\n",
    "output_dir = \"output_images\"\n",
    "os.makedirs(output_dir, exist_ok=True)  # Crea el directorio si no existe\n",
    "\n",
    "# Número de filtros en la salida (la última dimensión)\n",
    "num_filters = resultados.shape[-1]  # Cantidad de filtros\n",
    "\n",
    "# Crear subgráficos, asegurándote de que sean iterables\n",
    "fig, axs = plt.subplots(1, num_filters, figsize=(15, 15))  # Crea subgráficos para cada filtro\n",
    "\n",
    "# Verificar la forma de `resultados` para asegurarse de que es correcta\n",
    "if resultados.ndim == 4:  # Asegúrate de que tiene 4 dimensiones\n",
    "    # Crear subgráficos, asegurándote de que sean iterables\n",
    "    fig, axs = plt.subplots(1, resultados.shape[-1], figsize=(15, 15))  # Crea subgráficos para cada filtro\n",
    "\n",
    "    # Asegúrate de que `axs` es iterable, incluso si solo hay un subgráfico\n",
    "    if resultados.shape[-1] == 1:\n",
    "        axs = [axs]  # Convertir a lista para poder indexar\n",
    "\n",
    "    # Guardar cada filtro como una imagen\n",
    "    for i in range(resultados.shape[-1]):  # Asegúrate de que estás en el rango correcto\n",
    "        axs[i].imshow(resultados[0, :, :, i], cmap='viridis')  # `imshow` para visualizar\n",
    "        axs[i].axis('off')  # Ocultar ejes para una mejor visualización\n",
    "\n",
    "        # Guardar la imagen en el directorio especificado\n",
    "        file_name = f\"filtro_{i + 1}.png\"\n",
    "        fig.savefig(file_name, bbox_inches='tight')  # Guardar figura\n",
    "\n",
    "    plt.close(fig)  # Cerrar la figura para liberar memoria\n",
    "else:\n",
    "    print(\"El array 'resultados' no tiene 4 dimensiones como se esperaba. Forma:\", resultados.shape)\n"
   ]
  }
 ],
 "metadata": {
  "kernelspec": {
   "display_name": "Python 3 (ipykernel)",
   "language": "python",
   "name": "python3"
  },
  "language_info": {
   "codemirror_mode": {
    "name": "ipython",
    "version": 3
   },
   "file_extension": ".py",
   "mimetype": "text/x-python",
   "name": "python",
   "nbconvert_exporter": "python",
   "pygments_lexer": "ipython3",
   "version": "3.9.15"
  }
 },
 "nbformat": 4,
 "nbformat_minor": 5
}
